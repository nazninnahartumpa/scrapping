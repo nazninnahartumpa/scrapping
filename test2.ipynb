{
 "cells": [
  {
   "cell_type": "code",
   "execution_count": 11,
   "id": "included-jewel",
   "metadata": {},
   "outputs": [],
   "source": [
    "from selenium import webdriver\n",
    "from selenium.webdriver.chrome.options import Options\n",
    "from selenium.common.exceptions import NoSuchElementException\n",
    "import time"
   ]
  },
  {
   "cell_type": "code",
   "execution_count": 12,
   "id": "french-staff",
   "metadata": {},
   "outputs": [],
   "source": [
    "driver = webdriver.Firefox(executable_path = \"E:\\geckodriver.exe\")\n",
    "driver.get(\"https://www.walmart.com/search/?query=HP%2015%2C%20Intel%20Core%20i3-1115%2C%204GB%20RAM%2C%20256GB%20SSD%2C%20Black%2C%20Windows%2010%2C%2015-dw3021wm\")"
   ]
  },
  {
   "cell_type": "code",
   "execution_count": null,
   "id": "electric-moisture",
   "metadata": {},
   "outputs": [],
   "source": [
    "driver = webdriver.Chrome(\"E:\\\\test_scrapy\\scrappy_test_prj\\scrappy_test_prj\\\\chromedriver.exe\")\n",
    "driver.get(\"https://api.bluecartapi.com/request?api_key=E9229CDE2A364DF383420EAFD850FD9E&type=search&search_term=MacBook&sort_by=best_seller\")"
   ]
  },
  {
   "cell_type": "code",
   "execution_count": 13,
   "id": "liquid-stocks",
   "metadata": {},
   "outputs": [
    {
     "name": "stdout",
     "output_type": "stream",
     "text": [
      "url_list []\n"
     ]
    }
   ],
   "source": [
    "link_tag_list = driver.find_elements_by_xpath('//*[contains(@class, \"product-title-link\")]')\n",
    "# print('link_tag_list', link_tag_list)\n",
    "url_list = [link.get_attribute(\"href\") for link in link_tag_list[:4]]\n",
    "print(\"url_list\", url_list)\n",
    "\n",
    "for single_url in url_list:\n",
    "    self.driver.get(single_url)\n",
    "    time.sleep(1)\n",
    "#     self.log(f'single_url {single_url}')\n",
    "\n",
    "    # scrape title \n",
    "    try:    \n",
    "        title = self.driver.find_element_by_xpath('//*[contains(@class, \"prod-ProductTitle\")]').text\n",
    "    except:\n",
    "        title = \"\"\n",
    "\n",
    "# brand = driver.find_element_by_xpath('//*[@id=\"overview\"]//h1//span//span').text\n",
    "# print('brand', brand)\n",
    "\n",
    "# price = driver.find_element_by_xpath('//*[@id=\"stage\"]/following-sibling::div/div/div/div[1]/div[1]/span[1]').text\n",
    "# print('price', price)\n",
    "\n",
    "# description_list = driver.find_elements_by_xpath('//*[@itemprop=\"description\"]/div[2]/ul/li')\n",
    "# descriptions = [description.text for description in description_list]\n",
    "# print('descriptions', descriptions)\n",
    "\n",
    "# store_product_id = driver.find_element_by_xpath('//*[contains(text(), \"SKU: #\")]').text\n",
    "# print('store_product_id', store_product_id)\n",
    "\n",
    "# image_list = driver.find_elements_by_xpath('//*[@id=\"swatchPicker\"]//img')\n",
    "# image = [link.get_attribute(\"src\") for link in image_list]\n",
    "# print('image', image)\n",
    "\n",
    "\n",
    "# try:\n",
    "#     stock = driver.find_element_by_xpath('//*[contains(text(), \"Add to Shopping Bag\")]').text\n",
    "# except:\n",
    "#     stock = ''\n",
    "    \n",
    "# if stock == '':\n",
    "#     stock = 0\n",
    "# else:\n",
    "#     stock = 1\n",
    "\n",
    "# print('stock', stock)"
   ]
  },
  {
   "cell_type": "code",
   "execution_count": null,
   "id": "contemporary-prisoner",
   "metadata": {},
   "outputs": [],
   "source": []
  }
 ],
 "metadata": {
  "kernelspec": {
   "display_name": "Python 3",
   "language": "python",
   "name": "python3"
  },
  "language_info": {
   "codemirror_mode": {
    "name": "ipython",
    "version": 3
   },
   "file_extension": ".py",
   "mimetype": "text/x-python",
   "name": "python",
   "nbconvert_exporter": "python",
   "pygments_lexer": "ipython3",
   "version": "3.7.9"
  }
 },
 "nbformat": 4,
 "nbformat_minor": 5
}
